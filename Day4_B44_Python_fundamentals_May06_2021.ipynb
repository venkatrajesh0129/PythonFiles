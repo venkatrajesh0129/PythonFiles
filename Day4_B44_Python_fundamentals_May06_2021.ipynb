{
 "cells": [
  {
   "cell_type": "code",
   "execution_count": null,
   "metadata": {},
   "outputs": [],
   "source": [
    "#  Day-5(May-07-2021)-Python_Fundamentals "
   ]
  },
  {
   "cell_type": "code",
   "execution_count": null,
   "metadata": {},
   "outputs": [],
   "source": [
    "In todays sesssion discussed about continution of Strings"
   ]
  },
  {
   "cell_type": "code",
   "execution_count": 1,
   "metadata": {},
   "outputs": [
    {
     "name": "stdout",
     "output_type": "stream",
     "text": [
      "venkat Rajesh\n"
     ]
    }
   ],
   "source": [
    "full_name=\"venkat Rajesh\"\n",
    "print(full_name)"
   ]
  },
  {
   "cell_type": "code",
   "execution_count": 2,
   "metadata": {},
   "outputs": [
    {
     "name": "stdout",
     "output_type": "stream",
     "text": [
      "Venkat Rajesh\n"
     ]
    }
   ],
   "source": [
    "#requirement: to get fill_name output in the correct format\n",
    "print(full_name.title()) # title() will make first character in string to upper case\n"
   ]
  },
  {
   "cell_type": "code",
   "execution_count": 4,
   "metadata": {},
   "outputs": [
    {
     "name": "stdout",
     "output_type": "stream",
     "text": [
      "venkat rajesh\n"
     ]
    }
   ],
   "source": [
    "#requirement: to get full_name in lower case\n",
    "print(full_name.lower()) # lower() method will make all strings to lower case"
   ]
  },
  {
   "cell_type": "code",
   "execution_count": 5,
   "metadata": {},
   "outputs": [],
   "source": [
    "#requirement: to get full_name in upper case"
   ]
  },
  {
   "cell_type": "code",
   "execution_count": 6,
   "metadata": {},
   "outputs": [
    {
     "name": "stdout",
     "output_type": "stream",
     "text": [
      "VENKAT RAJESH\n"
     ]
    }
   ],
   "source": [
    "print(full_name.upper()) # upper() method will make string to upper case"
   ]
  },
  {
   "cell_type": "code",
   "execution_count": 18,
   "metadata": {},
   "outputs": [
    {
     "name": "stdout",
     "output_type": "stream",
     "text": [
      "Venkat Rajesh\n"
     ]
    }
   ],
   "source": [
    "# Introduction to f\" string\n",
    "# General syntax: \n",
    "# f\"customwords {placeholder1}{placeholder2}.......{placeholdern}\n",
    "# Example:\n",
    "firstname = 'Venkat'\n",
    "lastname='Rajesh'\n",
    "    \n",
    "#requirement: what to get full name \n",
    "\n",
    "fullname=f\"{firstname} {lastname}\"\n",
    "print(fullname.title())"
   ]
  },
  {
   "cell_type": "code",
   "execution_count": 19,
   "metadata": {},
   "outputs": [
    {
     "name": "stdout",
     "output_type": "stream",
     "text": [
      " hello Venkat Rajesh\n"
     ]
    }
   ],
   "source": [
    "# Want to write my custom message, lets say hello\n",
    "print(f\" hello {fullname.title()}\")"
   ]
  },
  {
   "cell_type": "code",
   "execution_count": 20,
   "metadata": {},
   "outputs": [
    {
     "name": "stdout",
     "output_type": "stream",
     "text": [
      "fav_programming_language: pythonsparkscala\n"
     ]
    }
   ],
   "source": [
    "#Adding whitespace to string\n",
    "#requirement: To conduct a survey amount a group  of students in a college --- Fav progranming language\n",
    "\n",
    "print(\"fav_programming_language: pythonsparkscala\")\n",
    "\n",
    "\n",
    "\n",
    "\n"
   ]
  },
  {
   "cell_type": "code",
   "execution_count": 21,
   "metadata": {},
   "outputs": [
    {
     "name": "stdout",
     "output_type": "stream",
     "text": [
      "fav_programming_language: python\n",
      "spark\n",
      "scala\n"
     ]
    }
   ],
   "source": [
    "#adding new line command\n",
    "print(\"fav_programming_language: python\\nspark\\nscala\")"
   ]
  },
  {
   "cell_type": "code",
   "execution_count": 23,
   "metadata": {},
   "outputs": [
    {
     "name": "stdout",
     "output_type": "stream",
     "text": [
      "fav_programming_language: python\n",
      "\tspark\n",
      "\tscala\n"
     ]
    }
   ],
   "source": [
    "#adding new line and tab delimited\n",
    "print(\"fav_programming_language: python\\n\\tspark\\n\\tscala\")"
   ]
  },
  {
   "cell_type": "code",
   "execution_count": 29,
   "metadata": {},
   "outputs": [
    {
     "name": "stdout",
     "output_type": "stream",
     "text": [
      "python\n",
      "python\n",
      "python\n"
     ]
    }
   ],
   "source": [
    "# removing whitespaces from string\n",
    "fav_programming_language1=' python' # there is a space to the right\n",
    "fav_programming_language2='python ' # there is a space to the left\n",
    "fav_programming_language3=' python ' # there is a space to the both sides\n",
    "\n",
    "print(fav_programming_language1.lstrip())\n",
    "print(fav_programming_language2.rstrip())\n",
    "print(fav_programming_language3.strip())"
   ]
  },
  {
   "cell_type": "code",
   "execution_count": null,
   "metadata": {},
   "outputs": [],
   "source": []
  }
 ],
 "metadata": {
  "kernelspec": {
   "display_name": "Python 3",
   "language": "python",
   "name": "python3"
  },
  "language_info": {
   "codemirror_mode": {
    "name": "ipython",
    "version": 3
   },
   "file_extension": ".py",
   "mimetype": "text/x-python",
   "name": "python",
   "nbconvert_exporter": "python",
   "pygments_lexer": "ipython3",
   "version": "3.8.5"
  }
 },
 "nbformat": 4,
 "nbformat_minor": 4
}
