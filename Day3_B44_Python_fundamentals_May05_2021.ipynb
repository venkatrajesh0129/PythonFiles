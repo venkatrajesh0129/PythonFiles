{
 "cells": [
  {
   "cell_type": "code",
   "execution_count": null,
   "metadata": {},
   "outputs": [],
   "source": [
    "# Day-3(May-05-2021)-Python_Fundamentals "
   ]
  },
  {
   "cell_type": "code",
   "execution_count": null,
   "metadata": {},
   "outputs": [],
   "source": [
    "# Understanding the Variables in python"
   ]
  },
  {
   "cell_type": "code",
   "execution_count": 4,
   "metadata": {},
   "outputs": [
    {
     "data": {
      "text/plain": [
       "8"
      ]
     },
     "execution_count": 4,
     "metadata": {},
     "output_type": "execute_result"
    }
   ],
   "source": [
    "x=5\n",
    "y=3\n",
    "x+y"
   ]
  },
  {
   "cell_type": "code",
   "execution_count": 5,
   "metadata": {},
   "outputs": [],
   "source": [
    "#Rules for declaring valiables"
   ]
  },
  {
   "cell_type": "code",
   "execution_count": 12,
   "metadata": {},
   "outputs": [
    {
     "name": "stdout",
     "output_type": "stream",
     "text": [
      "Rajesh\n"
     ]
    }
   ],
   "source": [
    "# Rule1: No namespacewhile declaring the variable name\n",
    "#example:\n",
    "\n",
    "FirstName=\"Rajesh\"\n",
    "\n",
    "print(FirstName)\n"
   ]
  },
  {
   "cell_type": "code",
   "execution_count": 13,
   "metadata": {},
   "outputs": [
    {
     "name": "stdout",
     "output_type": "stream",
     "text": [
      "Venkat\n",
      "Number in between variable name\n"
     ]
    }
   ],
   "source": [
    "#Rule2: A variable name should NOT start with Number\n",
    "# Note: But we can have numbers in-between or at the end\n",
    "# example:\n",
    "\n",
    "Name1=\"Venkat\"\n",
    "One1two=\"Number in between variable name\"\n",
    "\n",
    "print(Name1)\n",
    "print(One1two)\n",
    "\n",
    "\n"
   ]
  },
  {
   "cell_type": "code",
   "execution_count": null,
   "metadata": {},
   "outputs": [],
   "source": [
    "#Rule3: A variable name should not contain any special characters @$%&"
   ]
  },
  {
   "cell_type": "code",
   "execution_count": 14,
   "metadata": {},
   "outputs": [
    {
     "ename": "IndentationError",
     "evalue": "unexpected indent (<ipython-input-14-c84156268b7e>, line 3)",
     "output_type": "error",
     "traceback": [
      "\u001b[1;36m  File \u001b[1;32m\"<ipython-input-14-c84156268b7e>\"\u001b[1;36m, line \u001b[1;32m3\u001b[0m\n\u001b[1;33m    Name           Abbrevation\u001b[0m\n\u001b[1;37m    ^\u001b[0m\n\u001b[1;31mIndentationError\u001b[0m\u001b[1;31m:\u001b[0m unexpected indent\n"
     ]
    }
   ],
   "source": [
    "# Introduction to data types in Python\n",
    "\n",
    "    Name           Abbrevation \n",
    "1.  String         str\n",
    "2.  list           list\n",
    "3.  tuple          tuple\n",
    "4.  dictionary     dict\n",
    "5.  Numbers        integer -- int\n",
    "                   Decimal -- float "
   ]
  },
  {
   "cell_type": "code",
   "execution_count": null,
   "metadata": {},
   "outputs": [],
   "source": [
    "# Classification of Datatypes \n",
    "  Datatypes are classified into two types\n",
    "  \n",
    "  1. Mutable\n",
    "  2. Immutable \n",
    "\n",
    "Mutable: Can be altered/modified\n",
    "Immutable: Its fixed cant be altered/modified "
   ]
  },
  {
   "cell_type": "code",
   "execution_count": null,
   "metadata": {},
   "outputs": [],
   "source": [
    "# Introduction to string datatypes\n",
    "\n",
    "Defination: Is a series of characters enclosed in quotes\n",
    "\n",
    "Classification: It is classified as immutable datatype\n",
    "    \n",
    "# How to define String\n",
    "\n",
    "We can defne string in 3-different ways\n",
    "\n",
    "1. Single Quotes\n",
    "2. Double quotes\n",
    "3. Triple quotes\n",
    "\n",
    "Note: Any possible combination is allowed \n",
    "    \n",
    "Example:    "
   ]
  },
  {
   "cell_type": "code",
   "execution_count": 16,
   "metadata": {},
   "outputs": [
    {
     "name": "stdout",
     "output_type": "stream",
     "text": [
      "Rajesh\n",
      "Rajesh\n",
      "Rajesh\n"
     ]
    }
   ],
   "source": [
    "Name1='Rajesh'\n",
    "Name2=\"Rajesh\"\n",
    "Name3='''Rajesh'''\n",
    "\n",
    "print(Name1)\n",
    "print(Name2)\n",
    "print(Name3)"
   ]
  },
  {
   "cell_type": "code",
   "execution_count": null,
   "metadata": {},
   "outputs": [],
   "source": [
    "# End of Day-3"
   ]
  }
 ],
 "metadata": {
  "kernelspec": {
   "display_name": "Python 3",
   "language": "python",
   "name": "python3"
  },
  "language_info": {
   "codemirror_mode": {
    "name": "ipython",
    "version": 3
   },
   "file_extension": ".py",
   "mimetype": "text/x-python",
   "name": "python",
   "nbconvert_exporter": "python",
   "pygments_lexer": "ipython3",
   "version": "3.8.5"
  }
 },
 "nbformat": 4,
 "nbformat_minor": 4
}
